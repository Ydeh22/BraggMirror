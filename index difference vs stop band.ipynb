{
 "cells": [
  {
   "cell_type": "code",
   "execution_count": 3,
   "metadata": {},
   "outputs": [],
   "source": [
    "import pandas as pd\n",
    "import matplotlib.pyplot as plt\n",
    "import numpy as np\n",
    "from numpy.linalg import matrix_power\n",
    "\n",
    "pi= np.pi\n",
    "lam0 = 1/2000000  #500nm"
   ]
  },
  {
   "cell_type": "code",
   "execution_count": 6,
   "metadata": {},
   "outputs": [],
   "source": [
    "#take 6 pairs and plot refractive index difference vs stop band. "
   ]
  },
  {
   "cell_type": "code",
   "execution_count": 7,
   "metadata": {},
   "outputs": [],
   "source": [
    "def rp(n1, n2):          #equations simplify to these at normal incidence\n",
    "    return (n2 - n1) / (n2 + n1)\n",
    "\n",
    "def t(n1, n2):  #t_p = t_s at normal incidence\n",
    "    return (2*n1)/ (n1+n2)\n",
    "\n",
    "def I(n_a, n_b):         \n",
    "    x= (1/t(n_a, n_b))\n",
    "    y = np.array(([1, rp(n_a, n_b)], [rp(n_a, n_b), 1]))\n",
    "    \n",
    "    return np.multiply(x,y)\n",
    "\n",
    "def gam(lam):\n",
    "    return 2*pi*lam0/4*(1/lam)\n",
    "\n"
   ]
  },
  {
   "cell_type": "code",
   "execution_count": 8,
   "metadata": {},
   "outputs": [],
   "source": [
    "def r(n0,n_h,n_l,n_s,p,lam):  #should give the matrix from which we can find r and t\n",
    "    \n",
    "    L = np.array(([np.cos(-gam(lam))-np.sin(gam(lam))*1j, 0],\n",
    "                  [0, np.cos(gam(lam))+np.sin(gam(lam))*1j]))\n",
    "    I_start = I(n0, n_h)             #going from air to the first layer\n",
    "    I_HL = np.matmul(L, I(n_h,n_l))  #high to low\n",
    "    I_LH = np.matmul(L, I(n_l,n_h))  #low to high\n",
    "    I_finish = np.matmul(L, I(n_h, n_s))   #going from the last layer to the substrate\n",
    "    \n",
    "    Q= np.matmul(I_HL, I_LH) \n",
    "    S = np.matmul(I_start,np.matmul(matrix_power(Q,p),I_finish))\n",
    "    return (S[1][0]/ S[0][0]).real \n",
    "\n",
    "def R(n0,n_h,n_l,n_s, p,lam):\n",
    "    return (np.abs(r(n0,n_h,n_l,n_s, p,lam)))**2   #mod(r)^2\n"
   ]
  },
  {
   "cell_type": "code",
   "execution_count": 9,
   "metadata": {},
   "outputs": [],
   "source": [
    "def index_dif(n_h,n_l):\n",
    "    return (n_h-n_l)"
   ]
  },
  {
   "cell_type": "code",
   "execution_count": 10,
   "metadata": {},
   "outputs": [],
   "source": [
    "def stop_band1(n_h, n_l,wvl1,wvl2):\n",
    "    for i in np.linspace(wvl1,wvl2,1000):  #800nm to 1200nm\n",
    "        if R(1,n_h,n_l,1.5, 6,i) > 0.99:\n",
    "            return i"
   ]
  },
  {
   "cell_type": "code",
   "execution_count": 12,
   "metadata": {},
   "outputs": [],
   "source": [
    "def stop_band2(n_h, n_l,wvl1,wvl2):\n",
    "    for i in np.linspace(wvl2,wvl1,1000):  #1200nm to 800nm \n",
    "        if R(1,n_h,n_l,1.5, 6,i) > 0.99:  #using the case with 20 pairs\n",
    "            return i\n",
    "        "
   ]
  },
  {
   "cell_type": "code",
   "execution_count": 14,
   "metadata": {},
   "outputs": [],
   "source": [
    "def stop_band_width(n_h,n_l,wvl1,wvl2):\n",
    "    return stop_band2(n_h,n_l,wvl1,wvl2) - stop_band1(n_h,n_l,wvl1,wvl2)   #upper limit minus lower limit"
   ]
  },
  {
   "cell_type": "code",
   "execution_count": 29,
   "metadata": {},
   "outputs": [],
   "source": [
    "x2 = np.linspace(2.9,7,100)  #high indexes array\n",
    "y2 = index_dif(x2,2)  #array for our index differnece values\n",
    "\n",
    "p2 = x2.tolist() #high indexes list\n",
    "low2=[]\n",
    "for i in p2:   \n",
    "    low2.append(stop_band_width(i,2,0.0000003,0.0000007)) \n",
    "     "
   ]
  },
  {
   "cell_type": "code",
   "execution_count": 30,
   "metadata": {},
   "outputs": [],
   "source": [
    "x3 = np.linspace(4.1,8,100)  #high indexes array\n",
    "y3 = index_dif(x3,3)  #array for our index differnece values\n",
    "\n",
    "p3 = x3.tolist() #high indexes list\n",
    "low3=[]\n",
    "for i in p3:   \n",
    "    low3.append(stop_band_width(i,3,0.0000003,0.0000007)) \n",
    "     "
   ]
  },
  {
   "cell_type": "code",
   "execution_count": 34,
   "metadata": {},
   "outputs": [
    {
     "data": {
      "image/png": "[encoded data removed]",
      "text/plain": [
       "<Figure size 432x288 with 1 Axes>"
      ]
     },
     "metadata": {
      "needs_background": "light"
     },
     "output_type": "display_data"
    }
   ],
   "source": [
    "plt.plot(y2,low2)  \n",
    "plt.plot(y3,low3, ':r', linewidth=4)\n",
    "\n",
    "plt.xlim(0.5,5)\n",
    "#plt.ylim(0.9,1)\n",
    "#plt.title('')\n",
    "\n",
    "plt.ylabel('Wavelength Range over 99% Reflectivity (m)')\n",
    "plt.xlabel('Refractive index difference')\n",
    "\n",
    "plt.grid()\n",
    "plt.legend(['lower index=2','lower index = 3'])\n",
    "\n",
    "plt.savefig('index_diff')\n",
    "plt.show()\n",
    "\n"
   ]
  },
  {
   "cell_type": "code",
   "execution_count": null,
   "metadata": {},
   "outputs": [],
   "source": []
  },
  {
   "cell_type": "code",
   "execution_count": null,
   "metadata": {},
   "outputs": [],
   "source": []
  },
  {
   "cell_type": "code",
   "execution_count": null,
   "metadata": {},
   "outputs": [],
   "source": []
  }
 ],
 "metadata": {
  "kernelspec": {
   "display_name": "Python 3",
   "language": "python",
   "name": "python3"
  },
  "language_info": {
   "codemirror_mode": {
    "name": "ipython",
    "version": 3
   },
   "file_extension": ".py",
   "mimetype": "text/x-python",
   "name": "python",
   "nbconvert_exporter": "python",
   "pygments_lexer": "ipython3",
   "version": "3.9.5"
  }
 },
 "nbformat": 4,
 "nbformat_minor": 4
}
